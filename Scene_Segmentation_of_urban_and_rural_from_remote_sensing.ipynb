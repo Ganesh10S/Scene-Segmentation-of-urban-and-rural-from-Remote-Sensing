{
  "nbformat": 4,
  "nbformat_minor": 0,
  "metadata": {
    "colab": {
      "name": "Scene Segmentation of urban and rural from remote sensing.ipynb",
      "provenance": [],
      "collapsed_sections": [],
      "include_colab_link": true
    },
    "kernelspec": {
      "name": "python3",
      "display_name": "Python 3"
    },
    "accelerator": "GPU",
    "widgets": {
      "application/vnd.jupyter.widget-state+json": {
        "a3d1844dc3ad4d2eab10f61405e4b326": {
          "model_module": "@jupyter-widgets/controls",
          "model_name": "HBoxModel",
          "state": {
            "_view_name": "HBoxView",
            "_dom_classes": [],
            "_model_name": "HBoxModel",
            "_view_module": "@jupyter-widgets/controls",
            "_model_module_version": "1.5.0",
            "_view_count": null,
            "_view_module_version": "1.5.0",
            "box_style": "",
            "layout": "IPY_MODEL_6320763321da4e7c81b668245be905a4",
            "_model_module": "@jupyter-widgets/controls",
            "children": [
              "IPY_MODEL_7a431de006414476abbc2c166e8f15e4",
              "IPY_MODEL_0d6d341e90d54239a91991307aafc9f1"
            ]
          }
        },
        "b55dc2419d7941d78869c30ebd5a2316": {
          "model_module": "@jupyter-widgets/controls",
          "model_name": "HBoxModel",
          "state": {
            "_view_name": "HBoxView",
            "_dom_classes": [],
            "_model_name": "HBoxModel",
            "_view_module": "@jupyter-widgets/controls",
            "_model_module_version": "1.5.0",
            "_view_count": null,
            "_view_module_version": "1.5.0",
            "box_style": "",
            "layout": "IPY_MODEL_f6c03574e90549d6a3c3dcd5e9abbb5e",
            "_model_module": "@jupyter-widgets/controls",
            "children": [
              "IPY_MODEL_3ed1f258709040a299a63d5d00d4fdde",
              "IPY_MODEL_bdba66a2d838464ebebf78c9abd4ece3"
            ]
          }
        },
        "153f855f78a743a1a0087d650fbba7e6": {
          "model_module": "@jupyter-widgets/controls",
          "model_name": "HBoxModel",
          "state": {
            "_view_name": "HBoxView",
            "_dom_classes": [],
            "_model_name": "HBoxModel",
            "_view_module": "@jupyter-widgets/controls",
            "_model_module_version": "1.5.0",
            "_view_count": null,
            "_view_module_version": "1.5.0",
            "box_style": "",
            "layout": "IPY_MODEL_2f0f44e6ffbb4531a85504fe6815cb5b",
            "_model_module": "@jupyter-widgets/controls",
            "children": [
              "IPY_MODEL_db19235887fc41a6a400a202d349575e",
              "IPY_MODEL_4a4b2611e60249129fc40b7807c2b164"
            ]
          }
        },
        "1be6b9f8c80d43c5880bff0a1cd34956": {
          "model_module": "@jupyter-widgets/controls",
          "model_name": "HBoxModel",
          "state": {
            "_view_name": "HBoxView",
            "_dom_classes": [],
            "_model_name": "HBoxModel",
            "_view_module": "@jupyter-widgets/controls",
            "_model_module_version": "1.5.0",
            "_view_count": null,
            "_view_module_version": "1.5.0",
            "box_style": "",
            "layout": "IPY_MODEL_29b28e33545f4183a59528442cc3f7c8",
            "_model_module": "@jupyter-widgets/controls",
            "children": [
              "IPY_MODEL_9152ec129daa4ed78b8044ac37e77405",
              "IPY_MODEL_8eb9288ef8cb461ea94ccda0ce5f7e13"
            ]
          }
        },
        "e25fa892d2664277a228761efd2efaa0": {
          "model_module": "@jupyter-widgets/controls",
          "model_name": "HBoxModel",
          "state": {
            "_view_name": "HBoxView",
            "_dom_classes": [],
            "_model_name": "HBoxModel",
            "_view_module": "@jupyter-widgets/controls",
            "_model_module_version": "1.5.0",
            "_view_count": null,
            "_view_module_version": "1.5.0",
            "box_style": "",
            "layout": "IPY_MODEL_fe96fefe2a50452bbdee2d92b41bc2d6",
            "_model_module": "@jupyter-widgets/controls",
            "children": [
              "IPY_MODEL_5ee4d091fb714abeaeb85594c6974de2",
              "IPY_MODEL_5b10c3a2119c40809c5418e146a8c328"
            ]
          }
        },
        "fe96fefe2a50452bbdee2d92b41bc2d6": {
          "model_module": "@jupyter-widgets/base",
          "model_name": "LayoutModel",
          "state": {
            "_view_name": "LayoutView",
            "grid_template_rows": null,
            "right": null,
            "justify_content": null,
            "_view_module": "@jupyter-widgets/base",
            "overflow": null,
            "_model_module_version": "1.2.0",
            "_view_count": null,
            "flex_flow": null,
            "width": null,
            "min_width": null,
            "border": null,
            "align_items": null,
            "bottom": null,
            "_model_module": "@jupyter-widgets/base",
            "top": null,
            "grid_column": null,
            "overflow_y": null,
            "overflow_x": null,
            "grid_auto_flow": null,
            "grid_area": null,
            "grid_template_columns": null,
            "flex": null,
            "_model_name": "LayoutModel",
            "justify_items": null,
            "grid_row": null,
            "max_height": null,
            "align_content": null,
            "visibility": null,
            "align_self": null,
            "height": null,
            "min_height": null,
            "padding": null,
            "grid_auto_rows": null,
            "grid_gap": null,
            "max_width": null,
            "order": null,
            "_view_module_version": "1.2.0",
            "grid_template_areas": null,
            "object_position": null,
            "object_fit": null,
            "grid_auto_columns": null,
            "margin": null,
            "display": null,
            "left": null
          }
        },
        "5ee4d091fb714abeaeb85594c6974de2": {
          "model_module": "@jupyter-widgets/controls",
          "model_name": "IntProgressModel",
          "state": {
            "_view_name": "ProgressView",
            "style": "IPY_MODEL_d7c56c6db950430595a805293e6f4c06",
            "_dom_classes": [],
            "description": "",
            "_model_name": "IntProgressModel",
            "bar_style": "",
            "max": 592,
            "_view_module": "@jupyter-widgets/controls",
            "_model_module_version": "1.5.0",
            "value": 592,
            "_view_count": null,
            "_view_module_version": "1.5.0",
            "orientation": "horizontal",
            "min": 0,
            "description_tooltip": null,
            "_model_module": "@jupyter-widgets/controls",
            "layout": "IPY_MODEL_e242de53fc6648a7889ea1c8d1cdbfab"
          }
        },
        "5b10c3a2119c40809c5418e146a8c328": {
          "model_module": "@jupyter-widgets/controls",
          "model_name": "HTMLModel",
          "state": {
            "_view_name": "HTMLView",
            "style": "IPY_MODEL_126a2d9d3c1242c6bf1729e0ae8b7b1f",
            "_dom_classes": [],
            "description": "",
            "_model_name": "HTMLModel",
            "placeholder": "​",
            "_view_module": "@jupyter-widgets/controls",
            "_model_module_version": "1.5.0",
            "value": " 593/? [01:57&lt;00:00,  1.86it/s]",
            "_view_count": null,
            "_view_module_version": "1.5.0",
            "description_tooltip": null,
            "_model_module": "@jupyter-widgets/controls",
            "layout": "IPY_MODEL_bc89b0c34e1b4fc5afb28c3a3fff3a64"
          }
        },
        "d7c56c6db950430595a805293e6f4c06": {
          "model_module": "@jupyter-widgets/controls",
          "model_name": "ProgressStyleModel",
          "state": {
            "_view_name": "StyleView",
            "_model_name": "ProgressStyleModel",
            "description_width": "initial",
            "_view_module": "@jupyter-widgets/base",
            "_model_module_version": "1.5.0",
            "_view_count": null,
            "_view_module_version": "1.2.0",
            "bar_color": null,
            "_model_module": "@jupyter-widgets/controls"
          }
        },
        "e242de53fc6648a7889ea1c8d1cdbfab": {
          "model_module": "@jupyter-widgets/base",
          "model_name": "LayoutModel",
          "state": {
            "_view_name": "LayoutView",
            "grid_template_rows": null,
            "right": null,
            "justify_content": null,
            "_view_module": "@jupyter-widgets/base",
            "overflow": null,
            "_model_module_version": "1.2.0",
            "_view_count": null,
            "flex_flow": null,
            "width": null,
            "min_width": null,
            "border": null,
            "align_items": null,
            "bottom": null,
            "_model_module": "@jupyter-widgets/base",
            "top": null,
            "grid_column": null,
            "overflow_y": null,
            "overflow_x": null,
            "grid_auto_flow": null,
            "grid_area": null,
            "grid_template_columns": null,
            "flex": null,
            "_model_name": "LayoutModel",
            "justify_items": null,
            "grid_row": null,
            "max_height": null,
            "align_content": null,
            "visibility": null,
            "align_self": null,
            "height": null,
            "min_height": null,
            "padding": null,
            "grid_auto_rows": null,
            "grid_gap": null,
            "max_width": null,
            "order": null,
            "_view_module_version": "1.2.0",
            "grid_template_areas": null,
            "object_position": null,
            "object_fit": null,
            "grid_auto_columns": null,
            "margin": null,
            "display": null,
            "left": null
          }
        },
        "126a2d9d3c1242c6bf1729e0ae8b7b1f": {
          "model_module": "@jupyter-widgets/controls",
          "model_name": "DescriptionStyleModel",
          "state": {
            "_view_name": "StyleView",
            "_model_name": "DescriptionStyleModel",
            "description_width": "",
            "_view_module": "@jupyter-widgets/base",
            "_model_module_version": "1.5.0",
            "_view_count": null,
            "_view_module_version": "1.2.0",
            "_model_module": "@jupyter-widgets/controls"
          }
        },
        "bc89b0c34e1b4fc5afb28c3a3fff3a64": {
          "model_module": "@jupyter-widgets/base",
          "model_name": "LayoutModel",
          "state": {
            "_view_name": "LayoutView",
            "grid_template_rows": null,
            "right": null,
            "justify_content": null,
            "_view_module": "@jupyter-widgets/base",
            "overflow": null,
            "_model_module_version": "1.2.0",
            "_view_count": null,
            "flex_flow": null,
            "width": null,
            "min_width": null,
            "border": null,
            "align_items": null,
            "bottom": null,
            "_model_module": "@jupyter-widgets/base",
            "top": null,
            "grid_column": null,
            "overflow_y": null,
            "overflow_x": null,
            "grid_auto_flow": null,
            "grid_area": null,
            "grid_template_columns": null,
            "flex": null,
            "_model_name": "LayoutModel",
            "justify_items": null,
            "grid_row": null,
            "max_height": null,
            "align_content": null,
            "visibility": null,
            "align_self": null,
            "height": null,
            "min_height": null,
            "padding": null,
            "grid_auto_rows": null,
            "grid_gap": null,
            "max_width": null,
            "order": null,
            "_view_module_version": "1.2.0",
            "grid_template_areas": null,
            "object_position": null,
            "object_fit": null,
            "grid_auto_columns": null,
            "margin": null,
            "display": null,
            "left": null
          }
        },
        "1f1d6f614be74b4183982f16719c2f27": {
          "model_module": "@jupyter-widgets/controls",
          "model_name": "HBoxModel",
          "state": {
            "_view_name": "HBoxView",
            "_dom_classes": [],
            "_model_name": "HBoxModel",
            "_view_module": "@jupyter-widgets/controls",
            "_model_module_version": "1.5.0",
            "_view_count": null,
            "_view_module_version": "1.5.0",
            "box_style": "",
            "layout": "IPY_MODEL_02a892cae8ff43b1bbc4d429f4db65df",
            "_model_module": "@jupyter-widgets/controls",
            "children": [
              "IPY_MODEL_3730e8347b994e4db775f99b5e54559e",
              "IPY_MODEL_7a33896372cb49819ccc23872d07477b"
            ]
          }
        },
        "02a892cae8ff43b1bbc4d429f4db65df": {
          "model_module": "@jupyter-widgets/base",
          "model_name": "LayoutModel",
          "state": {
            "_view_name": "LayoutView",
            "grid_template_rows": null,
            "right": null,
            "justify_content": null,
            "_view_module": "@jupyter-widgets/base",
            "overflow": null,
            "_model_module_version": "1.2.0",
            "_view_count": null,
            "flex_flow": null,
            "width": null,
            "min_width": null,
            "border": null,
            "align_items": null,
            "bottom": null,
            "_model_module": "@jupyter-widgets/base",
            "top": null,
            "grid_column": null,
            "overflow_y": null,
            "overflow_x": null,
            "grid_auto_flow": null,
            "grid_area": null,
            "grid_template_columns": null,
            "flex": null,
            "_model_name": "LayoutModel",
            "justify_items": null,
            "grid_row": null,
            "max_height": null,
            "align_content": null,
            "visibility": null,
            "align_self": null,
            "height": null,
            "min_height": null,
            "padding": null,
            "grid_auto_rows": null,
            "grid_gap": null,
            "max_width": null,
            "order": null,
            "_view_module_version": "1.2.0",
            "grid_template_areas": null,
            "object_position": null,
            "object_fit": null,
            "grid_auto_columns": null,
            "margin": null,
            "display": null,
            "left": null
          }
        },
        "3730e8347b994e4db775f99b5e54559e": {
          "model_module": "@jupyter-widgets/controls",
          "model_name": "IntProgressModel",
          "state": {
            "_view_name": "ProgressView",
            "style": "IPY_MODEL_cdd318018fac496ab81dc04f9e669547",
            "_dom_classes": [],
            "description": "100%",
            "_model_name": "IntProgressModel",
            "bar_style": "",
            "max": 486,
            "_view_module": "@jupyter-widgets/controls",
            "_model_module_version": "1.5.0",
            "value": 486,
            "_view_count": null,
            "_view_module_version": "1.5.0",
            "orientation": "horizontal",
            "min": 0,
            "description_tooltip": null,
            "_model_module": "@jupyter-widgets/controls",
            "layout": "IPY_MODEL_91d66506e4f240f19e56b7197a0b00c2"
          }
        },
        "7a33896372cb49819ccc23872d07477b": {
          "model_module": "@jupyter-widgets/controls",
          "model_name": "HTMLModel",
          "state": {
            "_view_name": "HTMLView",
            "style": "IPY_MODEL_80220dfbf3f149f1856d5eecb9a6883b",
            "_dom_classes": [],
            "description": "",
            "_model_name": "HTMLModel",
            "placeholder": "​",
            "_view_module": "@jupyter-widgets/controls",
            "_model_module_version": "1.5.0",
            "value": " 486/486 [01:37&lt;00:00,  4.15it/s]",
            "_view_count": null,
            "_view_module_version": "1.5.0",
            "description_tooltip": null,
            "_model_module": "@jupyter-widgets/controls",
            "layout": "IPY_MODEL_d2c8ad4a37c14baa95088208da57ac49"
          }
        },
        "cdd318018fac496ab81dc04f9e669547": {
          "model_module": "@jupyter-widgets/controls",
          "model_name": "ProgressStyleModel",
          "state": {
            "_view_name": "StyleView",
            "_model_name": "ProgressStyleModel",
            "description_width": "initial",
            "_view_module": "@jupyter-widgets/base",
            "_model_module_version": "1.5.0",
            "_view_count": null,
            "_view_module_version": "1.2.0",
            "bar_color": null,
            "_model_module": "@jupyter-widgets/controls"
          }
        },
        "91d66506e4f240f19e56b7197a0b00c2": {
          "model_module": "@jupyter-widgets/base",
          "model_name": "LayoutModel",
          "state": {
            "_view_name": "LayoutView",
            "grid_template_rows": null,
            "right": null,
            "justify_content": null,
            "_view_module": "@jupyter-widgets/base",
            "overflow": null,
            "_model_module_version": "1.2.0",
            "_view_count": null,
            "flex_flow": null,
            "width": null,
            "min_width": null,
            "border": null,
            "align_items": null,
            "bottom": null,
            "_model_module": "@jupyter-widgets/base",
            "top": null,
            "grid_column": null,
            "overflow_y": null,
            "overflow_x": null,
            "grid_auto_flow": null,
            "grid_area": null,
            "grid_template_columns": null,
            "flex": null,
            "_model_name": "LayoutModel",
            "justify_items": null,
            "grid_row": null,
            "max_height": null,
            "align_content": null,
            "visibility": null,
            "align_self": null,
            "height": null,
            "min_height": null,
            "padding": null,
            "grid_auto_rows": null,
            "grid_gap": null,
            "max_width": null,
            "order": null,
            "_view_module_version": "1.2.0",
            "grid_template_areas": null,
            "object_position": null,
            "object_fit": null,
            "grid_auto_columns": null,
            "margin": null,
            "display": null,
            "left": null
          }
        },
        "80220dfbf3f149f1856d5eecb9a6883b": {
          "model_module": "@jupyter-widgets/controls",
          "model_name": "DescriptionStyleModel",
          "state": {
            "_view_name": "StyleView",
            "_model_name": "DescriptionStyleModel",
            "description_width": "",
            "_view_module": "@jupyter-widgets/base",
            "_model_module_version": "1.5.0",
            "_view_count": null,
            "_view_module_version": "1.2.0",
            "_model_module": "@jupyter-widgets/controls"
          }
        },
        "d2c8ad4a37c14baa95088208da57ac49": {
          "model_module": "@jupyter-widgets/base",
          "model_name": "LayoutModel",
          "state": {
            "_view_name": "LayoutView",
            "grid_template_rows": null,
            "right": null,
            "justify_content": null,
            "_view_module": "@jupyter-widgets/base",
            "overflow": null,
            "_model_module_version": "1.2.0",
            "_view_count": null,
            "flex_flow": null,
            "width": null,
            "min_width": null,
            "border": null,
            "align_items": null,
            "bottom": null,
            "_model_module": "@jupyter-widgets/base",
            "top": null,
            "grid_column": null,
            "overflow_y": null,
            "overflow_x": null,
            "grid_auto_flow": null,
            "grid_area": null,
            "grid_template_columns": null,
            "flex": null,
            "_model_name": "LayoutModel",
            "justify_items": null,
            "grid_row": null,
            "max_height": null,
            "align_content": null,
            "visibility": null,
            "align_self": null,
            "height": null,
            "min_height": null,
            "padding": null,
            "grid_auto_rows": null,
            "grid_gap": null,
            "max_width": null,
            "order": null,
            "_view_module_version": "1.2.0",
            "grid_template_areas": null,
            "object_position": null,
            "object_fit": null,
            "grid_auto_columns": null,
            "margin": null,
            "display": null,
            "left": null
          }
        },
        "44f33743f0c0425f84d0e60c93ec7eae": {
          "model_module": "@jupyter-widgets/controls",
          "model_name": "HBoxModel",
          "state": {
            "_view_name": "HBoxView",
            "_dom_classes": [],
            "_model_name": "HBoxModel",
            "_view_module": "@jupyter-widgets/controls",
            "_model_module_version": "1.5.0",
            "_view_count": null,
            "_view_module_version": "1.5.0",
            "box_style": "",
            "layout": "IPY_MODEL_8a8805aa22f446afb0e984bd4ec884fa",
            "_model_module": "@jupyter-widgets/controls",
            "children": [
              "IPY_MODEL_27d74766c1464e3a9e0701dd61d3f2bd",
              "IPY_MODEL_6458443b30e0410285ae967b560742a8"
            ]
          }
        },
        "8a8805aa22f446afb0e984bd4ec884fa": {
          "model_module": "@jupyter-widgets/base",
          "model_name": "LayoutModel",
          "state": {
            "_view_name": "LayoutView",
            "grid_template_rows": null,
            "right": null,
            "justify_content": null,
            "_view_module": "@jupyter-widgets/base",
            "overflow": null,
            "_model_module_version": "1.2.0",
            "_view_count": null,
            "flex_flow": null,
            "width": null,
            "min_width": null,
            "border": null,
            "align_items": null,
            "bottom": null,
            "_model_module": "@jupyter-widgets/base",
            "top": null,
            "grid_column": null,
            "overflow_y": null,
            "overflow_x": null,
            "grid_auto_flow": null,
            "grid_area": null,
            "grid_template_columns": null,
            "flex": null,
            "_model_name": "LayoutModel",
            "justify_items": null,
            "grid_row": null,
            "max_height": null,
            "align_content": null,
            "visibility": null,
            "align_self": null,
            "height": null,
            "min_height": null,
            "padding": null,
            "grid_auto_rows": null,
            "grid_gap": null,
            "max_width": null,
            "order": null,
            "_view_module_version": "1.2.0",
            "grid_template_areas": null,
            "object_position": null,
            "object_fit": null,
            "grid_auto_columns": null,
            "margin": null,
            "display": null,
            "left": null
          }
        },
        "27d74766c1464e3a9e0701dd61d3f2bd": {
          "model_module": "@jupyter-widgets/controls",
          "model_name": "IntProgressModel",
          "state": {
            "_view_name": "ProgressView",
            "style": "IPY_MODEL_0df3c39767114b7784d360935767ecc6",
            "_dom_classes": [],
            "description": "100%",
            "_model_name": "IntProgressModel",
            "bar_style": "",
            "max": 486,
            "_view_module": "@jupyter-widgets/controls",
            "_model_module_version": "1.5.0",
            "value": 486,
            "_view_count": null,
            "_view_module_version": "1.5.0",
            "orientation": "horizontal",
            "min": 0,
            "description_tooltip": null,
            "_model_module": "@jupyter-widgets/controls",
            "layout": "IPY_MODEL_7ad3daaf6b864856acfc7cae85942eb3"
          }
        },
        "6458443b30e0410285ae967b560742a8": {
          "model_module": "@jupyter-widgets/controls",
          "model_name": "HTMLModel",
          "state": {
            "_view_name": "HTMLView",
            "style": "IPY_MODEL_e48008b8f36e468ab0a5eda88df8d6e1",
            "_dom_classes": [],
            "description": "",
            "_model_name": "HTMLModel",
            "placeholder": "​",
            "_view_module": "@jupyter-widgets/controls",
            "_model_module_version": "1.5.0",
            "value": " 486/486 [01:36&lt;00:00,  4.14it/s]",
            "_view_count": null,
            "_view_module_version": "1.5.0",
            "description_tooltip": null,
            "_model_module": "@jupyter-widgets/controls",
            "layout": "IPY_MODEL_54f713900d474c939b60747465a34727"
          }
        },
        "0df3c39767114b7784d360935767ecc6": {
          "model_module": "@jupyter-widgets/controls",
          "model_name": "ProgressStyleModel",
          "state": {
            "_view_name": "StyleView",
            "_model_name": "ProgressStyleModel",
            "description_width": "initial",
            "_view_module": "@jupyter-widgets/base",
            "_model_module_version": "1.5.0",
            "_view_count": null,
            "_view_module_version": "1.2.0",
            "bar_color": null,
            "_model_module": "@jupyter-widgets/controls"
          }
        },
        "7ad3daaf6b864856acfc7cae85942eb3": {
          "model_module": "@jupyter-widgets/base",
          "model_name": "LayoutModel",
          "state": {
            "_view_name": "LayoutView",
            "grid_template_rows": null,
            "right": null,
            "justify_content": null,
            "_view_module": "@jupyter-widgets/base",
            "overflow": null,
            "_model_module_version": "1.2.0",
            "_view_count": null,
            "flex_flow": null,
            "width": null,
            "min_width": null,
            "border": null,
            "align_items": null,
            "bottom": null,
            "_model_module": "@jupyter-widgets/base",
            "top": null,
            "grid_column": null,
            "overflow_y": null,
            "overflow_x": null,
            "grid_auto_flow": null,
            "grid_area": null,
            "grid_template_columns": null,
            "flex": null,
            "_model_name": "LayoutModel",
            "justify_items": null,
            "grid_row": null,
            "max_height": null,
            "align_content": null,
            "visibility": null,
            "align_self": null,
            "height": null,
            "min_height": null,
            "padding": null,
            "grid_auto_rows": null,
            "grid_gap": null,
            "max_width": null,
            "order": null,
            "_view_module_version": "1.2.0",
            "grid_template_areas": null,
            "object_position": null,
            "object_fit": null,
            "grid_auto_columns": null,
            "margin": null,
            "display": null,
            "left": null
          }
        },
        "e48008b8f36e468ab0a5eda88df8d6e1": {
          "model_module": "@jupyter-widgets/controls",
          "model_name": "DescriptionStyleModel",
          "state": {
            "_view_name": "StyleView",
            "_model_name": "DescriptionStyleModel",
            "description_width": "",
            "_view_module": "@jupyter-widgets/base",
            "_model_module_version": "1.5.0",
            "_view_count": null,
            "_view_module_version": "1.2.0",
            "_model_module": "@jupyter-widgets/controls"
          }
        },
        "54f713900d474c939b60747465a34727": {
          "model_module": "@jupyter-widgets/base",
          "model_name": "LayoutModel",
          "state": {
            "_view_name": "LayoutView",
            "grid_template_rows": null,
            "right": null,
            "justify_content": null,
            "_view_module": "@jupyter-widgets/base",
            "overflow": null,
            "_model_module_version": "1.2.0",
            "_view_count": null,
            "flex_flow": null,
            "width": null,
            "min_width": null,
            "border": null,
            "align_items": null,
            "bottom": null,
            "_model_module": "@jupyter-widgets/base",
            "top": null,
            "grid_column": null,
            "overflow_y": null,
            "overflow_x": null,
            "grid_auto_flow": null,
            "grid_area": null,
            "grid_template_columns": null,
            "flex": null,
            "_model_name": "LayoutModel",
            "justify_items": null,
            "grid_row": null,
            "max_height": null,
            "align_content": null,
            "visibility": null,
            "align_self": null,
            "height": null,
            "min_height": null,
            "padding": null,
            "grid_auto_rows": null,
            "grid_gap": null,
            "max_width": null,
            "order": null,
            "_view_module_version": "1.2.0",
            "grid_template_areas": null,
            "object_position": null,
            "object_fit": null,
            "grid_auto_columns": null,
            "margin": null,
            "display": null,
            "left": null
          }
        },
        "41f1bf8240f0430aaf492e38ed885924": {
          "model_module": "@jupyter-widgets/controls",
          "model_name": "HBoxModel",
          "state": {
            "_view_name": "HBoxView",
            "_dom_classes": [],
            "_model_name": "HBoxModel",
            "_view_module": "@jupyter-widgets/controls",
            "_model_module_version": "1.5.0",
            "_view_count": null,
            "_view_module_version": "1.5.0",
            "box_style": "",
            "layout": "IPY_MODEL_ac0385b6b9ba4ee5a666055933884a33",
            "_model_module": "@jupyter-widgets/controls",
            "children": [
              "IPY_MODEL_9dbf1e2aae8245258a917e6c338c4a63",
              "IPY_MODEL_e3dc443bddb84cd98dda93e275798f43"
            ]
          }
        },
        "ac0385b6b9ba4ee5a666055933884a33": {
          "model_module": "@jupyter-widgets/base",
          "model_name": "LayoutModel",
          "state": {
            "_view_name": "LayoutView",
            "grid_template_rows": null,
            "right": null,
            "justify_content": null,
            "_view_module": "@jupyter-widgets/base",
            "overflow": null,
            "_model_module_version": "1.2.0",
            "_view_count": null,
            "flex_flow": null,
            "width": null,
            "min_width": null,
            "border": null,
            "align_items": null,
            "bottom": null,
            "_model_module": "@jupyter-widgets/base",
            "top": null,
            "grid_column": null,
            "overflow_y": null,
            "overflow_x": null,
            "grid_auto_flow": null,
            "grid_area": null,
            "grid_template_columns": null,
            "flex": null,
            "_model_name": "LayoutModel",
            "justify_items": null,
            "grid_row": null,
            "max_height": null,
            "align_content": null,
            "visibility": null,
            "align_self": null,
            "height": null,
            "min_height": null,
            "padding": null,
            "grid_auto_rows": null,
            "grid_gap": null,
            "max_width": null,
            "order": null,
            "_view_module_version": "1.2.0",
            "grid_template_areas": null,
            "object_position": null,
            "object_fit": null,
            "grid_auto_columns": null,
            "margin": null,
            "display": null,
            "left": null
          }
        },
        "9dbf1e2aae8245258a917e6c338c4a63": {
          "model_module": "@jupyter-widgets/controls",
          "model_name": "IntProgressModel",
          "state": {
            "_view_name": "ProgressView",
            "style": "IPY_MODEL_d60e2f84b327462d8493497358c5fa4b",
            "_dom_classes": [],
            "description": "",
            "_model_name": "IntProgressModel",
            "bar_style": "",
            "max": 396,
            "_view_module": "@jupyter-widgets/controls",
            "_model_module_version": "1.5.0",
            "value": 396,
            "_view_count": null,
            "_view_module_version": "1.5.0",
            "orientation": "horizontal",
            "min": 0,
            "description_tooltip": null,
            "_model_module": "@jupyter-widgets/controls",
            "layout": "IPY_MODEL_b1d27be54dc44b6b91fa8f4d37bcbb46"
          }
        },
        "e3dc443bddb84cd98dda93e275798f43": {
          "model_module": "@jupyter-widgets/controls",
          "model_name": "HTMLModel",
          "state": {
            "_view_name": "HTMLView",
            "style": "IPY_MODEL_42270181370a4a77b78e6f441a1eec7a",
            "_dom_classes": [],
            "description": "",
            "_model_name": "HTMLModel",
            "placeholder": "​",
            "_view_module": "@jupyter-widgets/controls",
            "_model_module_version": "1.5.0",
            "value": " 397/? [01:19&lt;00:00,  4.87it/s]",
            "_view_count": null,
            "_view_module_version": "1.5.0",
            "description_tooltip": null,
            "_model_module": "@jupyter-widgets/controls",
            "layout": "IPY_MODEL_15d2e1007e17463797a5f0d0eab8498d"
          }
        },
        "d60e2f84b327462d8493497358c5fa4b": {
          "model_module": "@jupyter-widgets/controls",
          "model_name": "ProgressStyleModel",
          "state": {
            "_view_name": "StyleView",
            "_model_name": "ProgressStyleModel",
            "description_width": "initial",
            "_view_module": "@jupyter-widgets/base",
            "_model_module_version": "1.5.0",
            "_view_count": null,
            "_view_module_version": "1.2.0",
            "bar_color": null,
            "_model_module": "@jupyter-widgets/controls"
          }
        },
        "b1d27be54dc44b6b91fa8f4d37bcbb46": {
          "model_module": "@jupyter-widgets/base",
          "model_name": "LayoutModel",
          "state": {
            "_view_name": "LayoutView",
            "grid_template_rows": null,
            "right": null,
            "justify_content": null,
            "_view_module": "@jupyter-widgets/base",
            "overflow": null,
            "_model_module_version": "1.2.0",
            "_view_count": null,
            "flex_flow": null,
            "width": null,
            "min_width": null,
            "border": null,
            "align_items": null,
            "bottom": null,
            "_model_module": "@jupyter-widgets/base",
            "top": null,
            "grid_column": null,
            "overflow_y": null,
            "overflow_x": null,
            "grid_auto_flow": null,
            "grid_area": null,
            "grid_template_columns": null,
            "flex": null,
            "_model_name": "LayoutModel",
            "justify_items": null,
            "grid_row": null,
            "max_height": null,
            "align_content": null,
            "visibility": null,
            "align_self": null,
            "height": null,
            "min_height": null,
            "padding": null,
            "grid_auto_rows": null,
            "grid_gap": null,
            "max_width": null,
            "order": null,
            "_view_module_version": "1.2.0",
            "grid_template_areas": null,
            "object_position": null,
            "object_fit": null,
            "grid_auto_columns": null,
            "margin": null,
            "display": null,
            "left": null
          }
        },
        "42270181370a4a77b78e6f441a1eec7a": {
          "model_module": "@jupyter-widgets/controls",
          "model_name": "DescriptionStyleModel",
          "state": {
            "_view_name": "StyleView",
            "_model_name": "DescriptionStyleModel",
            "description_width": "",
            "_view_module": "@jupyter-widgets/base",
            "_model_module_version": "1.5.0",
            "_view_count": null,
            "_view_module_version": "1.2.0",
            "_model_module": "@jupyter-widgets/controls"
          }
        },
        "15d2e1007e17463797a5f0d0eab8498d": {
          "model_module": "@jupyter-widgets/base",
          "model_name": "LayoutModel",
          "state": {
            "_view_name": "LayoutView",
            "grid_template_rows": null,
            "right": null,
            "justify_content": null,
            "_view_module": "@jupyter-widgets/base",
            "overflow": null,
            "_model_module_version": "1.2.0",
            "_view_count": null,
            "flex_flow": null,
            "width": null,
            "min_width": null,
            "border": null,
            "align_items": null,
            "bottom": null,
            "_model_module": "@jupyter-widgets/base",
            "top": null,
            "grid_column": null,
            "overflow_y": null,
            "overflow_x": null,
            "grid_auto_flow": null,
            "grid_area": null,
            "grid_template_columns": null,
            "flex": null,
            "_model_name": "LayoutModel",
            "justify_items": null,
            "grid_row": null,
            "max_height": null,
            "align_content": null,
            "visibility": null,
            "align_self": null,
            "height": null,
            "min_height": null,
            "padding": null,
            "grid_auto_rows": null,
            "grid_gap": null,
            "max_width": null,
            "order": null,
            "_view_module_version": "1.2.0",
            "grid_template_areas": null,
            "object_position": null,
            "object_fit": null,
            "grid_auto_columns": null,
            "margin": null,
            "display": null,
            "left": null
          }
        }
      }
    }
  },
  "cells": [
    {
      "cell_type": "markdown",
      "metadata": {
        "id": "view-in-github",
        "colab_type": "text"
      },
      "source": [
        "<a href=\"https://colab.research.google.com/github/Ganesh10S/Scene-Segmentation-of-urban-and-rural-from-Remote-Sensing/blob/master/Scene_Segmentation_of_urban_and_rural_from_remote_sensing.ipynb\" target=\"_parent\"><img src=\"https://colab.research.google.com/assets/colab-badge.svg\" alt=\"Open In Colab\"/></a>"
      ]
    },
    {
      "cell_type": "markdown",
      "metadata": {
        "id": "uQQGHPUzMsyq",
        "colab_type": "text"
      },
      "source": [
        "Ensure runtime is enabled with GPU"
      ]
    },
    {
      "cell_type": "markdown",
      "metadata": {
        "id": "_WQOh3edLVpZ",
        "colab_type": "text"
      },
      "source": [
        "**Connecting the drive **\n"
      ]
    },
    {
      "cell_type": "code",
      "metadata": {
        "id": "WWlxRecWnDcc",
        "colab_type": "code",
        "colab": {}
      },
      "source": [
        "from google.colab import files\n",
        "files.upload()"
      ],
      "execution_count": 0,
      "outputs": []
    },
    {
      "cell_type": "markdown",
      "metadata": {
        "id": "CrzRdMidLkD3",
        "colab_type": "text"
      },
      "source": [
        "connect kaggle to retrive the required dataset "
      ]
    },
    {
      "cell_type": "code",
      "metadata": {
        "id": "iBPVgU08myOb",
        "colab_type": "code",
        "colab": {}
      },
      "source": [
        "!pip install -U -q kaggle\n",
        "!mkdir -p ~/.kaggle"
      ],
      "execution_count": 0,
      "outputs": []
    },
    {
      "cell_type": "code",
      "metadata": {
        "id": "l6VBSKcjnQeE",
        "colab_type": "code",
        "colab": {}
      },
      "source": [
        "!cp kaggle.json ~/.kaggle/\n"
      ],
      "execution_count": 0,
      "outputs": []
    },
    {
      "cell_type": "markdown",
      "metadata": {
        "id": "adPBRNdUMFp7",
        "colab_type": "text"
      },
      "source": [
        "check kaggle is connected or not"
      ]
    },
    {
      "cell_type": "code",
      "metadata": {
        "id": "YXuUVMFwnW-l",
        "colab_type": "code",
        "colab": {}
      },
      "source": [
        "!kaggle datasets list"
      ],
      "execution_count": 0,
      "outputs": []
    },
    {
      "cell_type": "markdown",
      "metadata": {
        "id": "vKhVv1ezMMrw",
        "colab_type": "text"
      },
      "source": [
        "Downloading the dataset from kaggle"
      ]
    },
    {
      "cell_type": "code",
      "metadata": {
        "id": "F0rcW6q1ogfC",
        "colab_type": "code",
        "colab": {}
      },
      "source": [
        "!kaggle datasets download -d bkfateam/potsdamvaihingen"
      ],
      "execution_count": 0,
      "outputs": []
    },
    {
      "cell_type": "markdown",
      "metadata": {
        "id": "W8-b1F_ZMgRC",
        "colab_type": "text"
      },
      "source": [
        "unzip the dataset and store it in drive "
      ]
    },
    {
      "cell_type": "code",
      "metadata": {
        "id": "4u10muRa_7IG",
        "colab_type": "code",
        "colab": {}
      },
      "source": [
        "!unzip potsdamvaihingen.zip -d /content/drive/My\\ Drive/VP\\ DATASET"
      ],
      "execution_count": 0,
      "outputs": []
    },
    {
      "cell_type": "markdown",
      "metadata": {
        "id": "urKX7ZgBM9vK",
        "colab_type": "text"
      },
      "source": [
        "Importing library  functions"
      ]
    },
    {
      "cell_type": "code",
      "metadata": {
        "id": "loFt0708v81d",
        "colab_type": "code",
        "colab": {}
      },
      "source": [
        "import numpy as np                           #to operate high level mathematical function in an array\n",
        "from skimage import io                       #io to read ,save ,display a image\n",
        "from glob import glob                        #finds all path name matching a specific pattern\n",
        "from tqdm import tqdm_notebook as tqdm       #to show progress of each loop\n",
        "from sklearn.metrics import confusion_matrix\n",
        "import random                                #generates random numbers  \n",
        "import itertools                             #to produce complex iterators\n",
        "# Matplotlib\n",
        "import matplotlib.pyplot as plt\n",
        "%matplotlib inline\n",
        "# Torch imports\n",
        "import torch                                 #scientific computing package\n",
        "import torch.nn as nn\n",
        "import torch.nn.functional as F\n",
        "import torch.utils.data as data\n",
        "import torch.optim as optim\n",
        "import torch.optim.lr_scheduler\n",
        "import torch.nn.init\n",
        "from torch.autograd import Variable"
      ],
      "execution_count": 0,
      "outputs": []
    },
    {
      "cell_type": "markdown",
      "metadata": {
        "id": "c6-AuYk8NJYn",
        "colab_type": "text"
      },
      "source": [
        "Initailizing and directing the dataset "
      ]
    },
    {
      "cell_type": "code",
      "metadata": {
        "id": "dqft8X6gv_Jk",
        "colab_type": "code",
        "colab": {}
      },
      "source": [
        "WINDOW_SIZE = (256, 256) # Patch size\n",
        "STRIDE = 32 # Stride for testing\n",
        "IN_CHANNELS = 3 # Number of input channels (e.g. RGB)\n",
        "FOLDER = \"/content/drive/My Drive/VP DATASET\" # Replace with your \"/path/to/the/ISPRS/dataset/folder/\"\n",
        "BATCH_SIZE = 10 # Number of samples in a mini-batch\n",
        "\n",
        "LABELS = [\"roads\", \"buildings\", \"low veg.\", \"trees\", \"cars\", \"clutter\"] # Label names\n",
        "N_CLASSES = len(LABELS) # Number of classes\n",
        "WEIGHTS = torch.ones(N_CLASSES) # Weights for class balancing\n",
        "CACHE = True # Store the dataset in-memory\n",
        "\n",
        "DATASET = 'Vaihingen'         #vaihingen dataset\n",
        "\n",
        "if DATASET == 'Potsdam':\n",
        "    MAIN_FOLDER = '/content/drive/My Drive/VP DATASET/'\n",
        "    # Uncomment the next line for IRRG data\n",
        "    # DATA_FOLDER = MAIN_FOLDER + '3_Ortho_IRRG/top_potsdam_{}_IRRG.tif'\n",
        "    # For RGB data\n",
        "    DATA_FOLDER = MAIN_FOLDER + '/3_Ortho_IRRG/3_Ortho_IRRG/' + '/top_potsdam_{}_RGB.tif'\n",
        "    LABEL_FOLDER = MAIN_FOLDER + '/5_Labels_for_participants/' + '/top_potsdam_{}_label.tif'\n",
        "    ERODED_FOLDER = MAIN_FOLDER + '5_Labels_for_participants_no_Boundary/' + '/top_potsdam_{}_label_noBoundary.tif'    \n",
        "elif DATASET == 'Vaihingen':\n",
        "    MAIN_FOLDER = '/content/drive/My Drive/VP DATASET/ISPRS_semantic_labeling_Vaihingen/'\n",
        "    DATA_FOLDER = MAIN_FOLDER + 'top/top_mosaic_09cm_area{}.tif'\n",
        "    LABEL_FOLDER = '/content/drive/My Drive/VP DATASET/ISPRS_semantic_labeling_Vaihingen/' +'/gts_for_participants/top_mosaic_09cm_area{}.tif'\n",
        "    ERODED_FOLDER = '/content/drive/My Drive/VP DATASET/ISPRS_semantic_labeling_Vaihingen/' +'/gts_for_participants/top_mosaic_09cm_area{}.tif'"
      ],
      "execution_count": 0,
      "outputs": []
    },
    {
      "cell_type": "markdown",
      "metadata": {
        "id": "l5j_9ZR3NWl9",
        "colab_type": "text"
      },
      "source": [
        "checking whether the dataset is readable"
      ]
    },
    {
      "cell_type": "code",
      "metadata": {
        "id": "0nNGKXyPxGI4",
        "colab_type": "code",
        "colab": {
          "base_uri": "https://localhost:8080/",
          "height": 278
        },
        "outputId": "2db96d39-5931-4a74-e38e-199b68842933"
      },
      "source": [
        "# ISPRS color palette\n",
        "# Let's define the standard ISPRS color palette\n",
        "palette = {0 : (255, 255, 255), # Impervious surfaces (white)\n",
        "           1 : (0, 0, 255),     # Buildings (blue)\n",
        "           2 : (0, 255, 255),   # Low vegetation (cyan)\n",
        "           3 : (0, 255, 0),     # Trees (green)\n",
        "           4 : (255, 255, 0),   # Cars (yellow)\n",
        "           5 : (255, 0, 0),     # Clutter (red)\n",
        "           6 : (0, 0, 0)}       # Undefined (black)\n",
        "\n",
        "invert_palette = {v: k for k, v in palette.items()}\n",
        "\n",
        "def convert_to_color(arr_2d, palette=palette):\n",
        "    \"\"\" Numeric labels to RGB-color encoding \"\"\"\n",
        "    arr_3d = np.zeros((arr_2d.shape[0], arr_2d.shape[1], 3), dtype=np.uint8)\n",
        "\n",
        "    for c, i in palette.items():\n",
        "        m = arr_2d == c\n",
        "        arr_3d[m] = i\n",
        "\n",
        "    return arr_3d\n",
        "\n",
        "def convert_from_color(arr_3d, palette=invert_palette):\n",
        "    \"\"\" RGB-color encoding to grayscale labels \"\"\"\n",
        "    arr_2d = np.zeros((arr_3d.shape[0], arr_3d.shape[1]), dtype=np.uint8)\n",
        "\n",
        "    for c, i in palette.items():\n",
        "        m = np.all(arr_3d == np.array(c).reshape(1, 1, 3), axis=2)\n",
        "        arr_2d[m] = i\n",
        "\n",
        "    return arr_2d\n",
        "\n",
        "# We load one tile from the dataset and we display it\n",
        "img = io.imread('/content/drive/My Drive/VP DATASET/ISPRS_semantic_labeling_Vaihingen/top/top_mosaic_09cm_area26.tif')\n",
        "fig = plt.figure()\n",
        "fig.add_subplot(121)\n",
        "plt.imshow(img)\n",
        "\n",
        "# We load the ground truth\n",
        "gt = io.imread('/content/drive/My Drive/VP DATASET/isprs_semantic_labeling_vaihingen/gts_for_participants/top_mosaic_09cm_area26.tif')\n",
        "fig.add_subplot(122)\n",
        "plt.imshow(gt)\n",
        "plt.show()\n",
        "\n",
        "# We also check that we can convert the ground truth into an array format\n",
        "array_gt = convert_from_color(gt)\n",
        "print(\"Ground truth in numerical format has shape ({},{}) : \\n\".format(*array_gt.shape[:2]), array_gt)\n"
      ],
      "execution_count": 28,
      "outputs": [
        {
          "output_type": "display_data",
          "data": {
            "image/png": "[encoded data removed]",
            "text/plain": [
              "<Figure size 432x288 with 2 Axes>"
            ]
          },
          "metadata": {
            "tags": [],
            "needs_background": "light"
          }
        },
        {
          "output_type": "stream",
          "text": [
            "Ground truth in numerical format has shape (1783,2995) : \n",
            " [[2 2 2 ... 1 1 1]\n",
            " [2 2 2 ... 1 1 1]\n",
            " [2 2 2 ... 1 1 1]\n",
            " ...\n",
            " [5 5 5 ... 1 1 1]\n",
            " [5 5 5 ... 1 1 1]\n",
            " [5 5 5 ... 1 1 1]]\n"
          ],
          "name": "stdout"
        }
      ]
    },
    {
      "cell_type": "markdown",
      "metadata": {
        "id": "d9jqOzi2NvWQ",
        "colab_type": "text"
      },
      "source": [
        ""
      ]
    },
    {
      "cell_type": "code",
      "metadata": {
        "id": "_-ZvSdO9x9lq",
        "colab_type": "code",
        "colab": {}
      },
      "source": [
        "# Utils\n",
        "\n",
        "def get_random_pos(img, window_shape):\n",
        "    \"\"\" Extract of 2D random patch of shape window_shape in the image \"\"\"\n",
        "    w, h = window_shape\n",
        "    W, H = img.shape[-2:]\n",
        "    x1 = random.randint(0, W - w - 1)\n",
        "    x2 = x1 + w\n",
        "    y1 = random.randint(0, H - h - 1)\n",
        "    y2 = y1 + h\n",
        "    return x1, x2, y1, y2\n",
        "\n",
        "def CrossEntropy2d(input, target, weight=None, size_average=True):\n",
        "    \"\"\" 2D version of the cross entropy loss \"\"\"\n",
        "    dim = input.dim()\n",
        "    if dim == 2:\n",
        "        return F.cross_entropy(input, target, weight, size_average)\n",
        "    elif dim == 4:\n",
        "        output = input.view(input.size(0),input.size(1), -1)\n",
        "        output = torch.transpose(output,1,2).contiguous()\n",
        "        output = output.view(-1,output.size(2))\n",
        "        target = target.view(-1)\n",
        "        return F.cross_entropy(output, target,weight, size_average)\n",
        "    else:\n",
        "        raise ValueError('Expected 2 or 4 dimensions (got {})'.format(dim))\n",
        "\n",
        "def accuracy(input, target):\n",
        "    return 100 * float(np.count_nonzero(input == target)) / target.size\n",
        "\n",
        "def sliding_window(top, step=10, window_size=(20,20)):\n",
        "    \"\"\" Slide a window_shape window across the image with a stride of step \"\"\"\n",
        "    for x in range(0, top.shape[0], step):\n",
        "        if x + window_size[0] > top.shape[0]:\n",
        "            x = top.shape[0] - window_size[0]\n",
        "        for y in range(0, top.shape[1], step):\n",
        "            if y + window_size[1] > top.shape[1]:\n",
        "                y = top.shape[1] - window_size[1]\n",
        "            yield x, y, window_size[0], window_size[1]\n",
        "            \n",
        "def count_sliding_window(top, step=10, window_size=(20,20)):\n",
        "    \"\"\" Count the number of windows in an image \"\"\"\n",
        "    c = 0\n",
        "    for x in range(0, top.shape[0], step):\n",
        "        if x + window_size[0] > top.shape[0]:\n",
        "            x = top.shape[0] - window_size[0]\n",
        "        for y in range(0, top.shape[1], step):\n",
        "            if y + window_size[1] > top.shape[1]:\n",
        "                y = top.shape[1] - window_size[1]\n",
        "            c += 1\n",
        "    return c\n",
        "\n",
        "def grouper(n, iterable):\n",
        "    \"\"\" Browse an iterator by chunk of n elements \"\"\"\n",
        "    it = iter(iterable)\n",
        "    while True:\n",
        "        chunk = tuple(itertools.islice(it, n))\n",
        "        if not chunk:\n",
        "            return\n",
        "        yield chunk\n",
        "\n",
        "def metrics(predictions, gts, label_values=LABELS):\n",
        "    cm = confusion_matrix(\n",
        "            gts,\n",
        "            predictions,\n",
        "            range(len(label_values)))\n",
        "    \n",
        "    print(\"Confusion matrix :\")\n",
        "    print(cm)\n",
        "    \n",
        "    print(\"---\")\n",
        "    \n",
        "    # Compute global accuracy\n",
        "    total = sum(sum(cm))\n",
        "    accuracy = sum([cm[x][x] for x in range(len(cm))])\n",
        "    accuracy *= 100 / float(total)\n",
        "    print(\"{} pixels processed\".format(total))\n",
        "    print(\"Total accuracy : {}%\".format(accuracy))\n",
        "    \n",
        "    print(\"---\")\n",
        "    \n",
        "    # Compute F1 score\n",
        "    F1Score = np.zeros(len(label_values))\n",
        "    for i in range(len(label_values)):\n",
        "        try:\n",
        "            F1Score[i] = 2. * cm[i,i] / (np.sum(cm[i,:]) + np.sum(cm[:,i]))\n",
        "        except:\n",
        "            # Ignore exception if there is no element in class i for test set\n",
        "            pass\n",
        "    print(\"F1Score :\")\n",
        "    for l_id, score in enumerate(F1Score):\n",
        "        print(\"{}: {}\".format(label_values[l_id], score))\n",
        "\n",
        "    print(\"---\")\n",
        "        \n",
        "    # Compute kappa coefficient\n",
        "    total = np.sum(cm)\n",
        "    pa = np.trace(cm) / float(total)\n",
        "    pe = np.sum(np.sum(cm, axis=0) * np.sum(cm, axis=1)) / float(total*total)\n",
        "    kappa = (pa - pe) / (1 - pe);\n",
        "    print(\"Kappa: \" + str(kappa))\n",
        "    return accuracy"
      ],
      "execution_count": 0,
      "outputs": []
    },
    {
      "cell_type": "code",
      "metadata": {
        "id": "FLbTYd8EybNP",
        "colab_type": "code",
        "colab": {}
      },
      "source": [
        "class ISPRS_dataset(torch.utils.data.Dataset):\n",
        "    def __init__(self, ids, data_files=DATA_FOLDER, label_files=LABEL_FOLDER,\n",
        "                            cache=False, augmentation=True):\n",
        "        super(ISPRS_dataset, self).__init__()\n",
        "        \n",
        "        self.augmentation = augmentation\n",
        "        self.cache = cache\n",
        "        \n",
        "        # List of files\n",
        "        self.data_files = [DATA_FOLDER.format(id) for id in ids]\n",
        "        self.label_files = [LABEL_FOLDER.format(id) for id in ids]\n",
        "\n",
        "        # Sanity check : raise an error if some files do not exist\n",
        "        for f in self.data_files + self.label_files:\n",
        "            if not os.path.isfile(f):\n",
        "                raise KeyError('{} is not a file !'.format(f))\n",
        "        \n",
        "        # Initialize cache dicts\n",
        "        self.data_cache_ = {}\n",
        "        self.label_cache_ = {}\n",
        "            \n",
        "    \n",
        "    def __len__(self):\n",
        "        # Default epoch size is 10 000 samples\n",
        "        return 10000\n",
        "    \n",
        "    @classmethod\n",
        "    def data_augmentation(cls, *arrays, flip=True, mirror=True):\n",
        "        will_flip, will_mirror = False, False\n",
        "        if flip and random.random() < 0.5:\n",
        "            will_flip = True\n",
        "        if mirror and random.random() < 0.5:\n",
        "            will_mirror = True\n",
        "        \n",
        "        results = []\n",
        "        for array in arrays:\n",
        "            if will_flip:\n",
        "                if len(array.shape) == 2:\n",
        "                    array = array[::-1, :]\n",
        "                else:\n",
        "                    array = array[:, ::-1, :]\n",
        "            if will_mirror:\n",
        "                if len(array.shape) == 2:\n",
        "                    array = array[:, ::-1]\n",
        "                else:\n",
        "                    array = array[:, :, ::-1]\n",
        "            results.append(np.copy(array))\n",
        "            \n",
        "        return tuple(results)\n",
        "    \n",
        "    def __getitem__(self, i):\n",
        "        # Pick a random image\n",
        "        random_idx = random.randint(0, len(self.data_files) - 1)\n",
        "        \n",
        "        # If the tile hasn't been loaded yet, put in cache\n",
        "        if random_idx in self.data_cache_.keys():\n",
        "            data = self.data_cache_[random_idx]\n",
        "        else:\n",
        "            # Data is normalized in [0, 1]\n",
        "            data = 1/255 * np.asarray(io.imread(self.data_files[random_idx]).transpose((2,0,1)), dtype='float32')\n",
        "            if self.cache:\n",
        "                self.data_cache_[random_idx] = data\n",
        "            \n",
        "        if random_idx in self.label_cache_.keys():\n",
        "            label = self.label_cache_[random_idx]\n",
        "        else: \n",
        "            # Labels are converted from RGB to their numeric values\n",
        "            label = np.asarray(convert_from_color(io.imread(self.label_files[random_idx])), dtype='int64')\n",
        "            if self.cache:\n",
        "                self.label_cache_[random_idx] = label\n",
        "\n",
        "        # Get a random patch\n",
        "        x1, x2, y1, y2 = get_random_pos(data, WINDOW_SIZE)\n",
        "        data_p = data[:, x1:x2,y1:y2]\n",
        "        label_p = label[x1:x2,y1:y2]\n",
        "        \n",
        "        # Data augmentation\n",
        "        data_p, label_p = self.data_augmentation(data_p, label_p)\n",
        "\n",
        "        # Return the torch.Tensor values\n",
        "        return (torch.from_numpy(data_p),\n",
        "                torch.from_numpy(label_p))"
      ],
      "execution_count": 0,
      "outputs": []
    },
    {
      "cell_type": "code",
      "metadata": {
        "id": "mC9gWBMYyqDi",
        "colab_type": "code",
        "colab": {}
      },
      "source": [
        "class SegNet(nn.Module):\n",
        "    # SegNet network\n",
        "    @staticmethod\n",
        "    def weight_init(m):\n",
        "        if isinstance(m, nn.Linear):\n",
        "            torch.nn.init.kaiming_normal(m.weight.data)\n",
        "    \n",
        "    def __init__(self, in_channels=IN_CHANNELS, out_channels=N_CLASSES):\n",
        "        super(SegNet, self).__init__()\n",
        "        self.pool = nn.MaxPool2d(2, return_indices=True)\n",
        "        self.unpool = nn.MaxUnpool2d(2)\n",
        "        \n",
        "        self.conv1_1 = nn.Conv2d(in_channels, 64, 3, padding=1)\n",
        "        self.conv1_1_bn = nn.BatchNorm2d(64)\n",
        "        self.conv1_2 = nn.Conv2d(64, 64, 3, padding=1)\n",
        "        self.conv1_2_bn = nn.BatchNorm2d(64)\n",
        "        \n",
        "        self.conv2_1 = nn.Conv2d(64, 128, 3, padding=1)\n",
        "        self.conv2_1_bn = nn.BatchNorm2d(128)\n",
        "        self.conv2_2 = nn.Conv2d(128, 128, 3, padding=1)\n",
        "        self.conv2_2_bn = nn.BatchNorm2d(128)\n",
        "        \n",
        "        self.conv3_1 = nn.Conv2d(128, 256, 3, padding=1)\n",
        "        self.conv3_1_bn = nn.BatchNorm2d(256)\n",
        "        self.conv3_2 = nn.Conv2d(256, 256, 3, padding=1)\n",
        "        self.conv3_2_bn = nn.BatchNorm2d(256)\n",
        "        self.conv3_3 = nn.Conv2d(256, 256, 3, padding=1)\n",
        "        self.conv3_3_bn = nn.BatchNorm2d(256)\n",
        "        \n",
        "        self.conv4_1 = nn.Conv2d(256, 512, 3, padding=1)\n",
        "        self.conv4_1_bn = nn.BatchNorm2d(512)\n",
        "        self.conv4_2 = nn.Conv2d(512, 512, 3, padding=1)\n",
        "        self.conv4_2_bn = nn.BatchNorm2d(512)\n",
        "        self.conv4_3 = nn.Conv2d(512, 512, 3, padding=1)\n",
        "        self.conv4_3_bn = nn.BatchNorm2d(512)\n",
        "        \n",
        "        self.conv5_1 = nn.Conv2d(512, 512, 3, padding=1)\n",
        "        self.conv5_1_bn = nn.BatchNorm2d(512)\n",
        "        self.conv5_2 = nn.Conv2d(512, 512, 3, padding=1)\n",
        "        self.conv5_2_bn = nn.BatchNorm2d(512)\n",
        "        self.conv5_3 = nn.Conv2d(512, 512, 3, padding=1)\n",
        "        self.conv5_3_bn = nn.BatchNorm2d(512)\n",
        "        \n",
        "        self.conv5_3_D = nn.Conv2d(512, 512, 3, padding=1)\n",
        "        self.conv5_3_D_bn = nn.BatchNorm2d(512)\n",
        "        self.conv5_2_D = nn.Conv2d(512, 512, 3, padding=1)\n",
        "        self.conv5_2_D_bn = nn.BatchNorm2d(512)\n",
        "        self.conv5_1_D = nn.Conv2d(512, 512, 3, padding=1)\n",
        "        self.conv5_1_D_bn = nn.BatchNorm2d(512)\n",
        "        \n",
        "        self.conv4_3_D = nn.Conv2d(512, 512, 3, padding=1)\n",
        "        self.conv4_3_D_bn = nn.BatchNorm2d(512)\n",
        "        self.conv4_2_D = nn.Conv2d(512, 512, 3, padding=1)\n",
        "        self.conv4_2_D_bn = nn.BatchNorm2d(512)\n",
        "        self.conv4_1_D = nn.Conv2d(512, 256, 3, padding=1)\n",
        "        self.conv4_1_D_bn = nn.BatchNorm2d(256)\n",
        "        \n",
        "        self.conv3_3_D = nn.Conv2d(256, 256, 3, padding=1)\n",
        "        self.conv3_3_D_bn = nn.BatchNorm2d(256)\n",
        "        self.conv3_2_D = nn.Conv2d(256, 256, 3, padding=1)\n",
        "        self.conv3_2_D_bn = nn.BatchNorm2d(256)\n",
        "        self.conv3_1_D = nn.Conv2d(256, 128, 3, padding=1)\n",
        "        self.conv3_1_D_bn = nn.BatchNorm2d(128)\n",
        "        \n",
        "        self.conv2_2_D = nn.Conv2d(128, 128, 3, padding=1)\n",
        "        self.conv2_2_D_bn = nn.BatchNorm2d(128)\n",
        "        self.conv2_1_D = nn.Conv2d(128, 64, 3, padding=1)\n",
        "        self.conv2_1_D_bn = nn.BatchNorm2d(64)\n",
        "        \n",
        "        self.conv1_2_D = nn.Conv2d(64, 64, 3, padding=1)\n",
        "        self.conv1_2_D_bn = nn.BatchNorm2d(64)\n",
        "        self.conv1_1_D = nn.Conv2d(64, out_channels, 3, padding=1)\n",
        "        \n",
        "        self.apply(self.weight_init)\n",
        "        \n",
        "    def forward(self, x):\n",
        "        # Encoder block 1\n",
        "        x = self.conv1_1_bn(F.relu(self.conv1_1(x)))\n",
        "        x = self.conv1_2_bn(F.relu(self.conv1_2(x)))\n",
        "        x, mask1 = self.pool(x)\n",
        "        \n",
        "        # Encoder block 2\n",
        "        x = self.conv2_1_bn(F.relu(self.conv2_1(x)))\n",
        "        x = self.conv2_2_bn(F.relu(self.conv2_2(x)))\n",
        "        x, mask2 = self.pool(x)\n",
        "        \n",
        "        # Encoder block 3\n",
        "        x = self.conv3_1_bn(F.relu(self.conv3_1(x)))\n",
        "        x = self.conv3_2_bn(F.relu(self.conv3_2(x)))\n",
        "        x = self.conv3_3_bn(F.relu(self.conv3_3(x)))\n",
        "        x, mask3 = self.pool(x)\n",
        "        \n",
        "        # Encoder block 4\n",
        "        x = self.conv4_1_bn(F.relu(self.conv4_1(x)))\n",
        "        x = self.conv4_2_bn(F.relu(self.conv4_2(x)))\n",
        "        x = self.conv4_3_bn(F.relu(self.conv4_3(x)))\n",
        "        x, mask4 = self.pool(x)\n",
        "        \n",
        "        # Encoder block 5\n",
        "        x = self.conv5_1_bn(F.relu(self.conv5_1(x)))\n",
        "        x = self.conv5_2_bn(F.relu(self.conv5_2(x)))\n",
        "        x = self.conv5_3_bn(F.relu(self.conv5_3(x)))\n",
        "        x, mask5 = self.pool(x)\n",
        "        \n",
        "        # Decoder block 5\n",
        "        x = self.unpool(x, mask5)\n",
        "        x = self.conv5_3_D_bn(F.relu(self.conv5_3_D(x)))\n",
        "        x = self.conv5_2_D_bn(F.relu(self.conv5_2_D(x)))\n",
        "        x = self.conv5_1_D_bn(F.relu(self.conv5_1_D(x)))\n",
        "        \n",
        "        # Decoder block 4\n",
        "        x = self.unpool(x, mask4)\n",
        "        x = self.conv4_3_D_bn(F.relu(self.conv4_3_D(x)))\n",
        "        x = self.conv4_2_D_bn(F.relu(self.conv4_2_D(x)))\n",
        "        x = self.conv4_1_D_bn(F.relu(self.conv4_1_D(x)))\n",
        "        \n",
        "        # Decoder block 3\n",
        "        x = self.unpool(x, mask3)\n",
        "        x = self.conv3_3_D_bn(F.relu(self.conv3_3_D(x)))\n",
        "        x = self.conv3_2_D_bn(F.relu(self.conv3_2_D(x)))\n",
        "        x = self.conv3_1_D_bn(F.relu(self.conv3_1_D(x)))\n",
        "        \n",
        "        # Decoder block 2\n",
        "        x = self.unpool(x, mask2)\n",
        "        x = self.conv2_2_D_bn(F.relu(self.conv2_2_D(x)))\n",
        "        x = self.conv2_1_D_bn(F.relu(self.conv2_1_D(x)))\n",
        "        \n",
        "        # Decoder block 1\n",
        "        x = self.unpool(x, mask1)\n",
        "        x = self.conv1_2_D_bn(F.relu(self.conv1_2_D(x)))\n",
        "        x = F.log_softmax(self.conv1_1_D(x))\n",
        "        return x"
      ],
      "execution_count": 0,
      "outputs": []
    },
    {
      "cell_type": "code",
      "metadata": {
        "id": "Tf7oqI4TysVg",
        "colab_type": "code",
        "colab": {}
      },
      "source": [
        "# instantiate the network\n",
        "net = SegNet()"
      ],
      "execution_count": 0,
      "outputs": []
    },
    {
      "cell_type": "markdown",
      "metadata": {
        "id": "h92gP-V2XdSm",
        "colab_type": "text"
      },
      "source": [
        "Download vgg16 pretrained model"
      ]
    },
    {
      "cell_type": "code",
      "metadata": {
        "id": "jcQ_3SsIyyg0",
        "colab_type": "code",
        "colab": {
          "base_uri": "https://localhost:8080/",
          "height": 1000
        },
        "outputId": "eeda99eb-9513-41bb-e06e-62a528dc131f"
      },
      "source": [
        "import os\n",
        "try:\n",
        "    from urllib.request import URLopener\n",
        "except ImportError:\n",
        "    from urllib import URLopener\n",
        "\n",
        "# Download VGG-16 weights from PyTorch\n",
        "vgg_url = 'https://download.pytorch.org/models/vgg16_bn-6c64b313.pth'\n",
        "if not os.path.isfile('./vgg16_bn-6c64b313.pth'):\n",
        "    weights = URLopener().retrieve(vgg_url, './vgg16_bn-6c64b313.pth')\n",
        "\n",
        "vgg16_weights = torch.load('./vgg16_bn-6c64b313.pth')\n",
        "mapped_weights = {}\n",
        "for k_vgg, k_segnet in zip(vgg16_weights.keys(), net.state_dict().keys()):\n",
        "    if \"features\" in k_vgg:\n",
        "        mapped_weights[k_segnet] = vgg16_weights[k_vgg]\n",
        "        print(\"Mapping {} to {}\".format(k_vgg, k_segnet))\n",
        "        \n",
        "try:\n",
        "    net.load_state_dict(mapped_weights)\n",
        "    print(\"Loaded VGG-16 weights in SegNet !\")\n",
        "except:\n",
        "    # Ignore missing keys\n",
        "    pass"
      ],
      "execution_count": 35,
      "outputs": [
        {
          "output_type": "stream",
          "text": [
            "Mapping features.0.weight to conv1_1.weight\n",
            "Mapping features.0.bias to conv1_1.bias\n",
            "Mapping features.1.weight to conv1_1_bn.weight\n",
            "Mapping features.1.bias to conv1_1_bn.bias\n",
            "Mapping features.1.running_mean to conv1_1_bn.running_mean\n",
            "Mapping features.1.running_var to conv1_1_bn.running_var\n",
            "Mapping features.3.weight to conv1_1_bn.num_batches_tracked\n",
            "Mapping features.3.bias to conv1_2.weight\n",
            "Mapping features.4.weight to conv1_2.bias\n",
            "Mapping features.4.bias to conv1_2_bn.weight\n",
            "Mapping features.4.running_mean to conv1_2_bn.bias\n",
            "Mapping features.4.running_var to conv1_2_bn.running_mean\n",
            "Mapping features.7.weight to conv1_2_bn.running_var\n",
            "Mapping features.7.bias to conv1_2_bn.num_batches_tracked\n",
            "Mapping features.8.weight to conv2_1.weight\n",
            "Mapping features.8.bias to conv2_1.bias\n",
            "Mapping features.8.running_mean to conv2_1_bn.weight\n",
            "Mapping features.8.running_var to conv2_1_bn.bias\n",
            "Mapping features.10.weight to conv2_1_bn.running_mean\n",
            "Mapping features.10.bias to conv2_1_bn.running_var\n",
            "Mapping features.11.weight to conv2_1_bn.num_batches_tracked\n",
            "Mapping features.11.bias to conv2_2.weight\n",
            "Mapping features.11.running_mean to conv2_2.bias\n",
            "Mapping features.11.running_var to conv2_2_bn.weight\n",
            "Mapping features.14.weight to conv2_2_bn.bias\n",
            "Mapping features.14.bias to conv2_2_bn.running_mean\n",
            "Mapping features.15.weight to conv2_2_bn.running_var\n",
            "Mapping features.15.bias to conv2_2_bn.num_batches_tracked\n",
            "Mapping features.15.running_mean to conv3_1.weight\n",
            "Mapping features.15.running_var to conv3_1.bias\n",
            "Mapping features.17.weight to conv3_1_bn.weight\n",
            "Mapping features.17.bias to conv3_1_bn.bias\n",
            "Mapping features.18.weight to conv3_1_bn.running_mean\n",
            "Mapping features.18.bias to conv3_1_bn.running_var\n",
            "Mapping features.18.running_mean to conv3_1_bn.num_batches_tracked\n",
            "Mapping features.18.running_var to conv3_2.weight\n",
            "Mapping features.20.weight to conv3_2.bias\n",
            "Mapping features.20.bias to conv3_2_bn.weight\n",
            "Mapping features.21.weight to conv3_2_bn.bias\n",
            "Mapping features.21.bias to conv3_2_bn.running_mean\n",
            "Mapping features.21.running_mean to conv3_2_bn.running_var\n",
            "Mapping features.21.running_var to conv3_2_bn.num_batches_tracked\n",
            "Mapping features.24.weight to conv3_3.weight\n",
            "Mapping features.24.bias to conv3_3.bias\n",
            "Mapping features.25.weight to conv3_3_bn.weight\n",
            "Mapping features.25.bias to conv3_3_bn.bias\n",
            "Mapping features.25.running_mean to conv3_3_bn.running_mean\n",
            "Mapping features.25.running_var to conv3_3_bn.running_var\n",
            "Mapping features.27.weight to conv3_3_bn.num_batches_tracked\n",
            "Mapping features.27.bias to conv4_1.weight\n",
            "Mapping features.28.weight to conv4_1.bias\n",
            "Mapping features.28.bias to conv4_1_bn.weight\n",
            "Mapping features.28.running_mean to conv4_1_bn.bias\n",
            "Mapping features.28.running_var to conv4_1_bn.running_mean\n",
            "Mapping features.30.weight to conv4_1_bn.running_var\n",
            "Mapping features.30.bias to conv4_1_bn.num_batches_tracked\n",
            "Mapping features.31.weight to conv4_2.weight\n",
            "Mapping features.31.bias to conv4_2.bias\n",
            "Mapping features.31.running_mean to conv4_2_bn.weight\n",
            "Mapping features.31.running_var to conv4_2_bn.bias\n",
            "Mapping features.34.weight to conv4_2_bn.running_mean\n",
            "Mapping features.34.bias to conv4_2_bn.running_var\n",
            "Mapping features.35.weight to conv4_2_bn.num_batches_tracked\n",
            "Mapping features.35.bias to conv4_3.weight\n",
            "Mapping features.35.running_mean to conv4_3.bias\n",
            "Mapping features.35.running_var to conv4_3_bn.weight\n",
            "Mapping features.37.weight to conv4_3_bn.bias\n",
            "Mapping features.37.bias to conv4_3_bn.running_mean\n",
            "Mapping features.38.weight to conv4_3_bn.running_var\n",
            "Mapping features.38.bias to conv4_3_bn.num_batches_tracked\n",
            "Mapping features.38.running_mean to conv5_1.weight\n",
            "Mapping features.38.running_var to conv5_1.bias\n",
            "Mapping features.40.weight to conv5_1_bn.weight\n",
            "Mapping features.40.bias to conv5_1_bn.bias\n",
            "Mapping features.41.weight to conv5_1_bn.running_mean\n",
            "Mapping features.41.bias to conv5_1_bn.running_var\n",
            "Mapping features.41.running_mean to conv5_1_bn.num_batches_tracked\n",
            "Mapping features.41.running_var to conv5_2.weight\n"
          ],
          "name": "stdout"
        }
      ]
    },
    {
      "cell_type": "code",
      "metadata": {
        "id": "c3THGBZL1E5X",
        "colab_type": "code",
        "colab": {
          "base_uri": "https://localhost:8080/",
          "height": 952
        },
        "outputId": "6678310a-9e74-49af-aef1-0ec5b6cda3ac"
      },
      "source": [
        "net.cuda()"
      ],
      "execution_count": 36,
      "outputs": [
        {
          "output_type": "execute_result",
          "data": {
            "text/plain": [
              "SegNet(\n",
              "  (pool): MaxPool2d(kernel_size=2, stride=2, padding=0, dilation=1, ceil_mode=False)\n",
              "  (unpool): MaxUnpool2d(kernel_size=(2, 2), stride=(2, 2), padding=(0, 0))\n",
              "  (conv1_1): Conv2d(3, 64, kernel_size=(3, 3), stride=(1, 1), padding=(1, 1))\n",
              "  (conv1_1_bn): BatchNorm2d(64, eps=1e-05, momentum=0.1, affine=True, track_running_stats=True)\n",
              "  (conv1_2): Conv2d(64, 64, kernel_size=(3, 3), stride=(1, 1), padding=(1, 1))\n",
              "  (conv1_2_bn): BatchNorm2d(64, eps=1e-05, momentum=0.1, affine=True, track_running_stats=True)\n",
              "  (conv2_1): Conv2d(64, 128, kernel_size=(3, 3), stride=(1, 1), padding=(1, 1))\n",
              "  (conv2_1_bn): BatchNorm2d(128, eps=1e-05, momentum=0.1, affine=True, track_running_stats=True)\n",
              "  (conv2_2): Conv2d(128, 128, kernel_size=(3, 3), stride=(1, 1), padding=(1, 1))\n",
              "  (conv2_2_bn): BatchNorm2d(128, eps=1e-05, momentum=0.1, affine=True, track_running_stats=True)\n",
              "  (conv3_1): Conv2d(128, 256, kernel_size=(3, 3), stride=(1, 1), padding=(1, 1))\n",
              "  (conv3_1_bn): BatchNorm2d(256, eps=1e-05, momentum=0.1, affine=True, track_running_stats=True)\n",
              "  (conv3_2): Conv2d(256, 256, kernel_size=(3, 3), stride=(1, 1), padding=(1, 1))\n",
              "  (conv3_2_bn): BatchNorm2d(256, eps=1e-05, momentum=0.1, affine=True, track_running_stats=True)\n",
              "  (conv3_3): Conv2d(256, 256, kernel_size=(3, 3), stride=(1, 1), padding=(1, 1))\n",
              "  (conv3_3_bn): BatchNorm2d(256, eps=1e-05, momentum=0.1, affine=True, track_running_stats=True)\n",
              "  (conv4_1): Conv2d(256, 512, kernel_size=(3, 3), stride=(1, 1), padding=(1, 1))\n",
              "  (conv4_1_bn): BatchNorm2d(512, eps=1e-05, momentum=0.1, affine=True, track_running_stats=True)\n",
              "  (conv4_2): Conv2d(512, 512, kernel_size=(3, 3), stride=(1, 1), padding=(1, 1))\n",
              "  (conv4_2_bn): BatchNorm2d(512, eps=1e-05, momentum=0.1, affine=True, track_running_stats=True)\n",
              "  (conv4_3): Conv2d(512, 512, kernel_size=(3, 3), stride=(1, 1), padding=(1, 1))\n",
              "  (conv4_3_bn): BatchNorm2d(512, eps=1e-05, momentum=0.1, affine=True, track_running_stats=True)\n",
              "  (conv5_1): Conv2d(512, 512, kernel_size=(3, 3), stride=(1, 1), padding=(1, 1))\n",
              "  (conv5_1_bn): BatchNorm2d(512, eps=1e-05, momentum=0.1, affine=True, track_running_stats=True)\n",
              "  (conv5_2): Conv2d(512, 512, kernel_size=(3, 3), stride=(1, 1), padding=(1, 1))\n",
              "  (conv5_2_bn): BatchNorm2d(512, eps=1e-05, momentum=0.1, affine=True, track_running_stats=True)\n",
              "  (conv5_3): Conv2d(512, 512, kernel_size=(3, 3), stride=(1, 1), padding=(1, 1))\n",
              "  (conv5_3_bn): BatchNorm2d(512, eps=1e-05, momentum=0.1, affine=True, track_running_stats=True)\n",
              "  (conv5_3_D): Conv2d(512, 512, kernel_size=(3, 3), stride=(1, 1), padding=(1, 1))\n",
              "  (conv5_3_D_bn): BatchNorm2d(512, eps=1e-05, momentum=0.1, affine=True, track_running_stats=True)\n",
              "  (conv5_2_D): Conv2d(512, 512, kernel_size=(3, 3), stride=(1, 1), padding=(1, 1))\n",
              "  (conv5_2_D_bn): BatchNorm2d(512, eps=1e-05, momentum=0.1, affine=True, track_running_stats=True)\n",
              "  (conv5_1_D): Conv2d(512, 512, kernel_size=(3, 3), stride=(1, 1), padding=(1, 1))\n",
              "  (conv5_1_D_bn): BatchNorm2d(512, eps=1e-05, momentum=0.1, affine=True, track_running_stats=True)\n",
              "  (conv4_3_D): Conv2d(512, 512, kernel_size=(3, 3), stride=(1, 1), padding=(1, 1))\n",
              "  (conv4_3_D_bn): BatchNorm2d(512, eps=1e-05, momentum=0.1, affine=True, track_running_stats=True)\n",
              "  (conv4_2_D): Conv2d(512, 512, kernel_size=(3, 3), stride=(1, 1), padding=(1, 1))\n",
              "  (conv4_2_D_bn): BatchNorm2d(512, eps=1e-05, momentum=0.1, affine=True, track_running_stats=True)\n",
              "  (conv4_1_D): Conv2d(512, 256, kernel_size=(3, 3), stride=(1, 1), padding=(1, 1))\n",
              "  (conv4_1_D_bn): BatchNorm2d(256, eps=1e-05, momentum=0.1, affine=True, track_running_stats=True)\n",
              "  (conv3_3_D): Conv2d(256, 256, kernel_size=(3, 3), stride=(1, 1), padding=(1, 1))\n",
              "  (conv3_3_D_bn): BatchNorm2d(256, eps=1e-05, momentum=0.1, affine=True, track_running_stats=True)\n",
              "  (conv3_2_D): Conv2d(256, 256, kernel_size=(3, 3), stride=(1, 1), padding=(1, 1))\n",
              "  (conv3_2_D_bn): BatchNorm2d(256, eps=1e-05, momentum=0.1, affine=True, track_running_stats=True)\n",
              "  (conv3_1_D): Conv2d(256, 128, kernel_size=(3, 3), stride=(1, 1), padding=(1, 1))\n",
              "  (conv3_1_D_bn): BatchNorm2d(128, eps=1e-05, momentum=0.1, affine=True, track_running_stats=True)\n",
              "  (conv2_2_D): Conv2d(128, 128, kernel_size=(3, 3), stride=(1, 1), padding=(1, 1))\n",
              "  (conv2_2_D_bn): BatchNorm2d(128, eps=1e-05, momentum=0.1, affine=True, track_running_stats=True)\n",
              "  (conv2_1_D): Conv2d(128, 64, kernel_size=(3, 3), stride=(1, 1), padding=(1, 1))\n",
              "  (conv2_1_D_bn): BatchNorm2d(64, eps=1e-05, momentum=0.1, affine=True, track_running_stats=True)\n",
              "  (conv1_2_D): Conv2d(64, 64, kernel_size=(3, 3), stride=(1, 1), padding=(1, 1))\n",
              "  (conv1_2_D_bn): BatchNorm2d(64, eps=1e-05, momentum=0.1, affine=True, track_running_stats=True)\n",
              "  (conv1_1_D): Conv2d(64, 6, kernel_size=(3, 3), stride=(1, 1), padding=(1, 1))\n",
              ")"
            ]
          },
          "metadata": {
            "tags": []
          },
          "execution_count": 36
        }
      ]
    },
    {
      "cell_type": "markdown",
      "metadata": {
        "id": "tNmnfFQwXmJk",
        "colab_type": "text"
      },
      "source": [
        "Assigning train and test data"
      ]
    },
    {
      "cell_type": "code",
      "metadata": {
        "id": "AZqiaaO9z3a7",
        "colab_type": "code",
        "colab": {
          "base_uri": "https://localhost:8080/",
          "height": 51
        },
        "outputId": "141bb184-493b-4ddc-d30e-c7c4b626ac6d"
      },
      "source": [
        "# Load the datasets\n",
        "if DATASET == 'Potsdam':\n",
        "    all_files = sorted(glob(LABEL_FOLDER.replace('{}', '*')))\n",
        "    all_ids = [\"\".join(f.split('')[5:7]) for f in all_files]\n",
        "elif DATASET == 'Vaihingen':\n",
        "    #all_ids = \n",
        "    all_files = sorted(glob(LABEL_FOLDER.replace('{}', '*')))\n",
        "    all_ids = [f.split('area')[-1].split('.')[0] for f in all_files]\n",
        "# Random tile numbers for train/test split\n",
        "train_ids = random.sample(all_ids, 2 * len(all_ids) // 3 + 1)\n",
        "test_ids = list(set(all_ids) - set(train_ids))\n",
        "\n",
        "# Exemple of a train/test split on Vaihingen :\n",
        "train_ids = ['1', '5', '23', '26', '7', '11', '13', '21', '17', '32', '34', '30']\n",
        "test_ids = ['3', '28', '15', '37'] \n",
        "\n",
        "print(\"Tiles for training : \", train_ids)\n",
        "print(\"Tiles for testing : \", test_ids)\n",
        "\n",
        "train_set = ISPRS_dataset(train_ids, cache=CACHE)\n",
        "train_loader = torch.utils.data.DataLoader(train_set,batch_size=BATCH_SIZE)"
      ],
      "execution_count": 38,
      "outputs": [
        {
          "output_type": "stream",
          "text": [
            "Tiles for training :  ['1', '5', '23', '26', '7', '11', '13', '21', '17', '32', '34', '30']\n",
            "Tiles for testing :  ['3', '28', '15', '37']\n"
          ],
          "name": "stdout"
        }
      ]
    },
    {
      "cell_type": "code",
      "metadata": {
        "id": "eJoRuzTkz5hZ",
        "colab_type": "code",
        "colab": {}
      },
      "source": [
        "base_lr = 0.01\n",
        "params_dict = dict(net.named_parameters())\n",
        "params = []\n",
        "for key, value in params_dict.items():\n",
        "    if '_D' in key:\n",
        "        # Decoder weights are trained at the nominal learning rate\n",
        "        params += [{'params':[value],'lr': base_lr}]\n",
        "    else:\n",
        "        # Encoder weights are trained at lr / 2 (we have VGG-16 weights as initialization)\n",
        "        params += [{'params':[value],'lr': base_lr / 2}]\n",
        "\n",
        "optimizer = optim.SGD(net.parameters(), lr=base_lr, momentum=0.9, weight_decay=0.0005)\n",
        "# We define the scheduler\n",
        "scheduler = optim.lr_scheduler.MultiStepLR(optimizer, [25, 35, 45], gamma=0.1)"
      ],
      "execution_count": 0,
      "outputs": []
    },
    {
      "cell_type": "markdown",
      "metadata": {
        "id": "s9Uid6fLXxmG",
        "colab_type": "text"
      },
      "source": [
        "Test Function"
      ]
    },
    {
      "cell_type": "code",
      "metadata": {
        "id": "vO_Pukao0tKu",
        "colab_type": "code",
        "colab": {}
      },
      "source": [
        "def test(net, test_ids, all=False, stride=WINDOW_SIZE[0], batch_size=BATCH_SIZE, window_size=WINDOW_SIZE):\n",
        "    # Use the network on the test set\n",
        "    test_images = (1 / 255 * np.asarray(io.imread(DATA_FOLDER.format(id)), dtype='float32') for id in test_ids)\n",
        "    test_labels = (np.asarray(io.imread(LABEL_FOLDER.format(id)), dtype='uint8') for id in test_ids)\n",
        "    eroded_labels = (convert_from_color(io.imread(ERODED_FOLDER.format(id))) for id in test_ids)\n",
        "    all_preds = []\n",
        "    all_gts = []\n",
        "    \n",
        "    # Switch the network to inference mode\n",
        "    net.eval()\n",
        "\n",
        "    for img, gt, gt_e in tqdm(zip(test_images, test_labels, eroded_labels), total=len(test_ids), leave=False):\n",
        "        pred = np.zeros(img.shape[:2] + (N_CLASSES,))\n",
        "\n",
        "        total = count_sliding_window(img, step=stride, window_size=window_size) // batch_size\n",
        "        for i, coords in enumerate(tqdm(grouper(batch_size, sliding_window(img, step=stride, window_size=window_size)), total=total, leave=False)):\n",
        "            # Display in progress results\n",
        "            if i > 0 and total > 10 and i % int(10 * total / 100) == 0:\n",
        "                    _pred = np.argmax(pred, axis=-1)\n",
        "                    fig = plt.figure()\n",
        "                    fig.add_subplot(1,3,1)\n",
        "                    plt.imshow(np.asarray(255 * img, dtype='uint8'))\n",
        "                    fig.add_subplot(1,3,2)\n",
        "                    plt.imshow(convert_to_color(_pred))\n",
        "                    fig.add_subplot(1,3,3)\n",
        "                    plt.imshow(gt)\n",
        "                    clear_output()\n",
        "                    plt.show()\n",
        "                    \n",
        "            # Build the tensor\n",
        "            image_patches = [np.copy(img[x:x+w, y:y+h]).transpose((2,0,1)) for x,y,w,h in coords]\n",
        "            image_patches = np.asarray(image_patches)\n",
        "            image_patches = Variable(torch.from_numpy(image_patches).cuda(), volatile=True)\n",
        "            \n",
        "            # Do the inference\n",
        "            outs = net(image_patches)\n",
        "            outs = outs.data.cpu().numpy()\n",
        "            \n",
        "            # Fill in the results array\n",
        "            for out, (x, y, w, h) in zip(outs, coords):\n",
        "                out = out.transpose((1,2,0))\n",
        "                pred[x:x+w, y:y+h] += out\n",
        "            del(outs)\n",
        "\n",
        "        pred = np.argmax(pred, axis=-1)\n",
        "\n",
        "        # Display the result\n",
        "        clear_output()\n",
        "        fig = plt.figure()\n",
        "        fig.add_subplot(1,3,1)\n",
        "        plt.imshow(np.asarray(255 * img, dtype='uint8'))\n",
        "        fig.add_subplot(1,3,2)\n",
        "        plt.imshow(convert_to_color(pred))\n",
        "        fig.add_subplot(1,3,3)\n",
        "        plt.imshow(gt)\n",
        "        plt.show()\n",
        "\n",
        "        all_preds.append(pred)\n",
        "        all_gts.append(gt_e)\n",
        "\n",
        "        clear_output()\n",
        "        # Compute some metrics\n",
        "        metrics(pred.ravel(), gt_e.ravel())\n",
        "        accuracy = metrics(np.concatenate([p.ravel() for p in all_preds]), np.concatenate([p.ravel() for p in all_gts]).ravel())\n",
        "    if all:\n",
        "        return accuracy, all_preds, all_gts\n",
        "    else:\n",
        "        return accuracy\n",
        "        "
      ],
      "execution_count": 0,
      "outputs": []
    },
    {
      "cell_type": "code",
      "metadata": {
        "id": "JIo1g18_1_Y-",
        "colab_type": "code",
        "colab": {}
      },
      "source": [
        "from IPython.display import clear_output\n",
        "\n",
        "def train(net, optimizer, epochs, scheduler=None, weights=WEIGHTS, save_epoch = 5):\n",
        "    losses = np.zeros(1000000)\n",
        "    mean_losses = np.zeros(100000000)\n",
        "    weights = weights.cuda()\n",
        "\n",
        "    criterion = nn.NLLLoss2d(weight=weights)\n",
        "    iter_ = 0\n",
        "    \n",
        "    for e in range(1, epochs + 1):\n",
        "        if scheduler is not None:\n",
        "            scheduler.step()\n",
        "        net.train()\n",
        "        for batch_idx, (data, target) in enumerate(train_loader):\n",
        "            data, target = Variable(data.cuda()), Variable(target.cuda())\n",
        "            optimizer.zero_grad()\n",
        "            output = net(data)\n",
        "            loss = CrossEntropy2d(output, target, weight=weights)\n",
        "            loss.backward()\n",
        "            optimizer.step()\n",
        "            \n",
        "            losses[iter_] = loss.data\n",
        "            mean_losses[iter_] = np.mean(losses[max(0,iter_-100):iter_])\n",
        "            \n",
        "            if iter_ % 100 == 0:\n",
        "                clear_output()\n",
        "                rgb = np.asarray(255 * np.transpose(data.data.cpu().numpy()[0],(1,2,0)), dtype='uint8')\n",
        "                pred = np.argmax(output.data.cpu().numpy()[0], axis=0)\n",
        "                gt = target.data.cpu().numpy()[0]\n",
        "                print('Train (epoch {}/{}) [{}/{} ({:.0f}%)]\\tLoss: {:.6f}\\tAccuracy: {}'.format(\n",
        "                    e, epochs, batch_idx, len(train_loader),\n",
        "                    100. * batch_idx / len(train_loader), loss.data, accuracy(pred, gt)))\n",
        "                plt.plot(mean_losses[:iter_]) and plt.show()\n",
        "                fig = plt.figure()\n",
        "                fig.add_subplot(131)\n",
        "                plt.imshow(rgb)\n",
        "                plt.title('RGB')\n",
        "                fig.add_subplot(132)\n",
        "                plt.imshow(convert_to_color(gt))\n",
        "                plt.title('Ground truth')\n",
        "                fig.add_subplot(133)\n",
        "                plt.title('Prediction')\n",
        "                plt.imshow(convert_to_color(pred))\n",
        "                plt.show()\n",
        "            iter_ += 1\n",
        "            \n",
        "            del(data, target, loss)\n",
        "            \n",
        "        if e % save_epoch == 0:\n",
        "            # We validate with the largest possible stride for faster computing\n",
        "            acc = test(net, test_ids, all=False, stride=min(WINDOW_SIZE))\n",
        "            torch.save(net.state_dict(), './segnet256_epoch{}_{}'.format(e, acc))\n",
        "    torch.save(net.state_dict(), './segnet_final')"
      ],
      "execution_count": 0,
      "outputs": []
    },
    {
      "cell_type": "markdown",
      "metadata": {
        "id": "amK1EqWyN4Pl",
        "colab_type": "text"
      },
      "source": [
        "Training the dataset "
      ]
    },
    {
      "cell_type": "code",
      "metadata": {
        "id": "LysxG88G2POA",
        "colab_type": "code",
        "colab": {
          "base_uri": "https://localhost:8080/",
          "height": 734,
          "referenced_widgets": [
            "a3d1844dc3ad4d2eab10f61405e4b326",
            "b55dc2419d7941d78869c30ebd5a2316",
            "153f855f78a743a1a0087d650fbba7e6",
            "1be6b9f8c80d43c5880bff0a1cd34956"
          ]
        },
        "outputId": "f7be03d1-dd55-410b-c249-ed5e7082a2ef"
      },
      "source": [
        " train(net, optimizer, 5, scheduler)"
      ],
      "execution_count": 42,
      "outputs": [
        {
          "output_type": "stream",
          "text": [
            "Confusion matrix :\n",
            "[[ 771264   13514  135284       0    1054       0]\n",
            " [ 196545  637384   87826      30     794       0]\n",
            " [  77133   14311 1463054      16      33       0]\n",
            " [   5704     665  557961     780      24       0]\n",
            " [  13054     133    2446       0    3011       0]\n",
            " [      0       0       0       0       0       0]]\n",
            "---\n",
            "3982020 pixels processed\n",
            "Total accuracy : 72.21191756947479%\n",
            "---\n",
            "F1Score :\n",
            "roads: 0.7771642308405414\n",
            "buildings: 0.8024545098597117\n",
            "low veg.: 0.7698019372195233\n",
            "trees: 0.002756378542653191\n",
            "cars: 0.25560271646859084\n",
            "clutter: nan\n",
            "---\n",
            "Kappa: 0.5908539126511924\n"
          ],
          "name": "stdout"
        },
        {
          "output_type": "stream",
          "text": [
            "/usr/local/lib/python3.6/dist-packages/ipykernel_launcher.py:84: RuntimeWarning: invalid value encountered in double_scalars\n"
          ],
          "name": "stderr"
        },
        {
          "output_type": "stream",
          "text": [
            "Confusion matrix :\n",
            "[[3858557   68283 1142762    3475    6709    2669]\n",
            " [1471876 3054384  695630    1068    4361     332]\n",
            " [ 179354   62205 4980667    7308      34     578]\n",
            " [  25571    5208 4029480   62416      24     726]\n",
            " [ 108664    3721   21129     157   44168     131]\n",
            " [   6421    6174    2838       0     156       0]]\n",
            "---\n",
            "19857236 pixels processed\n",
            "Total accuracy : 60.432338115939196%\n",
            "---\n",
            "F1Score :\n",
            "roads: 0.7190149389288895\n",
            "buildings: 0.7248503908455358\n",
            "low veg.: 0.618614499027862\n",
            "trees: 0.029737134422891342\n",
            "cars: 0.3784390503037417\n",
            "clutter: 0.0\n",
            "---\n",
            "Kappa: 0.4651047385933924\n",
            "\r"
          ],
          "name": "stdout"
        }
      ]
    },
    {
      "cell_type": "code",
      "metadata": {
        "id": "G550o50D10_2",
        "colab_type": "code",
        "colab": {
          "base_uri": "https://localhost:8080/",
          "height": 34
        },
        "outputId": "eae45ac8-527d-4f03-e187-b705fd998750"
      },
      "source": [
        "net.load_state_dict(torch.load('./segnet_final'))"
      ],
      "execution_count": 44,
      "outputs": [
        {
          "output_type": "execute_result",
          "data": {
            "text/plain": [
              "<All keys matched successfully>"
            ]
          },
          "metadata": {
            "tags": []
          },
          "execution_count": 44
        }
      ]
    },
    {
      "cell_type": "markdown",
      "metadata": {
        "id": "ErY6wBD2OGWT",
        "colab_type": "text"
      },
      "source": [
        "Testing......"
      ]
    },
    {
      "cell_type": "code",
      "metadata": {
        "id": "N3guD7is16vf",
        "colab_type": "code",
        "colab": {
          "base_uri": "https://localhost:8080/",
          "height": 697,
          "referenced_widgets": [
            "3345a408a20c48408d9907e9368fbf6a",
            "e25fa892d2664277a228761efd2efaa0",
            "fe96fefe2a50452bbdee2d92b41bc2d6",
            "5ee4d091fb714abeaeb85594c6974de2",
            "5b10c3a2119c40809c5418e146a8c328",
            "d7c56c6db950430595a805293e6f4c06",
            "e242de53fc6648a7889ea1c8d1cdbfab",
            "126a2d9d3c1242c6bf1729e0ae8b7b1f",
            "bc89b0c34e1b4fc5afb28c3a3fff3a64",
            "1f1d6f614be74b4183982f16719c2f27",
            "02a892cae8ff43b1bbc4d429f4db65df",
            "3730e8347b994e4db775f99b5e54559e",
            "7a33896372cb49819ccc23872d07477b",
            "cdd318018fac496ab81dc04f9e669547",
            "91d66506e4f240f19e56b7197a0b00c2",
            "80220dfbf3f149f1856d5eecb9a6883b",
            "d2c8ad4a37c14baa95088208da57ac49",
            "44f33743f0c0425f84d0e60c93ec7eae",
            "8a8805aa22f446afb0e984bd4ec884fa",
            "27d74766c1464e3a9e0701dd61d3f2bd",
            "6458443b30e0410285ae967b560742a8",
            "0df3c39767114b7784d360935767ecc6",
            "7ad3daaf6b864856acfc7cae85942eb3",
            "e48008b8f36e468ab0a5eda88df8d6e1",
            "54f713900d474c939b60747465a34727",
            "41f1bf8240f0430aaf492e38ed885924",
            "ac0385b6b9ba4ee5a666055933884a33",
            "9dbf1e2aae8245258a917e6c338c4a63",
            "e3dc443bddb84cd98dda93e275798f43",
            "d60e2f84b327462d8493497358c5fa4b",
            "b1d27be54dc44b6b91fa8f4d37bcbb46",
            "42270181370a4a77b78e6f441a1eec7a",
            "15d2e1007e17463797a5f0d0eab8498d"
          ]
        },
        "outputId": "3b6b67ed-90d9-4398-af14-cdf5b4c9c0c1"
      },
      "source": [
        "_, all_preds, all_gts = test(net, test_ids, all=True, stride=32)"
      ],
      "execution_count": 45,
      "outputs": [
        {
          "output_type": "stream",
          "text": [
            "Confusion matrix :\n",
            "[[ 782451   10981  127057       0     627       0]\n",
            " [ 214341  624109   83633       2     494       0]\n",
            " [  73343    9710 1471487       0       7       0]\n",
            " [   4812     567  559714      31      10       0]\n",
            " [  13455     164    2545       0    2480       0]\n",
            " [      0       0       0       0       0       0]]\n",
            "---\n",
            "3982020 pixels processed\n",
            "Total accuracy : 72.33911431886328%\n",
            "---\n",
            "F1Score :\n",
            "roads: 0.7787449527697686\n",
            "buildings: 0.7960015560132899\n",
            "low veg.: 0.7746741693763831\n",
            "trees: 0.00010970208805538894\n",
            "cars: 0.22280118587727968\n",
            "clutter: nan\n",
            "---\n",
            "Kappa: 0.5927240326592574\n",
            "Confusion matrix :\n",
            "[[3907619   62301 1105699    1632    4381     823]\n",
            " [1546367 3030646  647098     846    2694       0]\n",
            " [ 163786   50840 5011221    4292       7       0]\n",
            " [  19910    3270 4052719   47516      10       0]\n",
            " [ 113452    2274   18596     159   43489       0]\n",
            " [   6692    6364    2513       0      20       0]]\n",
            "---\n",
            "19857236 pixels processed\n",
            "Total accuracy : 60.635281768318606%\n",
            "---\n",
            "F1Score :\n",
            "roads: 0.7209442264457905\n",
            "buildings: 0.7230158459402726\n",
            "low veg.: 0.6237519909146084\n",
            "trees: 0.022746519159284516\n",
            "cars: 0.380529463492744\n",
            "clutter: 0.0\n",
            "---\n",
            "Kappa: 0.46775752294552064\n"
          ],
          "name": "stdout"
        }
      ]
    },
    {
      "cell_type": "markdown",
      "metadata": {
        "id": "UaKbpjhXOMY2",
        "colab_type": "text"
      },
      "source": [
        "Saving the output."
      ]
    },
    {
      "cell_type": "code",
      "metadata": {
        "id": "xuznQZGFA6sy",
        "colab_type": "code",
        "colab": {
          "base_uri": "https://localhost:8080/",
          "height": 1000
        },
        "outputId": "2696f9f0-4bcf-49a8-ed9f-ffe385ed3ba7"
      },
      "source": [
        "for p, id_ in zip(all_preds, test_ids):\n",
        "    img = convert_to_color(p)\n",
        "    plt.imshow(img) and plt.show()\n",
        "    io.imsave('./output_{}.png'.format(id_), img)"
      ],
      "execution_count": 43,
      "outputs": [
        {
          "output_type": "display_data",
          "data": {
            "image/png": "[encoded data removed]",
            "text/plain": [
              "<Figure size 432x288 with 1 Axes>"
            ]
          },
          "metadata": {
            "tags": [],
            "needs_background": "light"
          }
        },
        {
          "output_type": "display_data",
          "data": {
            "image/png": "[encoded data removed]",
            "text/plain": [
              "<Figure size 432x288 with 1 Axes>"
            ]
          },
          "metadata": {
            "tags": [],
            "needs_background": "light"
          }
        },
        {
          "output_type": "display_data",
          "data": {
            "image/png": "[encoded data removed]",
            "text/plain": [
              "<Figure size 432x288 with 1 Axes>"
            ]
          },
          "metadata": {
            "tags": [],
            "needs_background": "light"
          }
        },
        {
          "output_type": "display_data",
          "data": {
            "image/png": "[encoded data removed]",
            "text/plain": [
              "<Figure size 432x288 with 1 Axes>"
            ]
          },
          "metadata": {
            "tags": [],
            "needs_background": "light"
          }
        }
      ]
    },
    {
      "cell_type": "markdown",
      "metadata": {
        "id": "pEazAckqOU4u",
        "colab_type": "text"
      },
      "source": [
        "successfully Semantical segmentation is performed"
      ]
    }
  ]
}